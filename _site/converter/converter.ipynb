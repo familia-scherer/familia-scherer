{
    "cells": [
        {
            "attachments": {},
            "cell_type": "markdown",
            "metadata": {},
            "source": [
                "# how to generate files"
            ]
        },
        {
            "attachments": {},
            "cell_type": "markdown",
            "metadata": {},
            "source": [
                "### - Download markdown of the person you want to add from Roam and add it to covert_files folder\n",
                "\n",
                "### - run this and fix file if needed"
            ]
        },
        {
            "cell_type": "code",
            "execution_count": 34,
            "metadata": {},
            "outputs": [],
            "source": [
                "import re\n",
                "def clean(text):\n",
                "  text = \" \".join(text.split())\n",
                "  text = text.replace(\"[[\", \"\")\n",
                "  text = text.replace(\"]]\", \"\")\n",
                "  text = text.replace(\"\\n\", \"\")\n",
                "  text = text.replace(\"*\", \"\")\n",
                "  return text\n",
                "\n",
                "def clean_dict(dictionary):\n",
                "  d = {}\n",
                "  for k, v in dictionary.items():\n",
                "    if v != {}:\n",
                "      d[k] = {}\n",
                "    if  isinstance(v, list):\n",
                "        d[k] = v\n",
                "    else:\n",
                "      for k2, v2 in v.items():\n",
                "        if v2:\n",
                "            d[k][k2] = v2\n",
                "  return d"
            ]
        },
        {
            "cell_type": "code",
            "execution_count": 35,
            "metadata": {},
            "outputs": [],
            "source": [
                "def read_lines(filename):\n",
                "    with open(f\"convert_files/{filename}\", 'r') as f:\n",
                "        lines = f.readlines()\n",
                "    lines = [clean(line) for line in lines if clean(line)!='']\n",
                "    return lines"
            ]
        },
        {
            "cell_type": "code",
            "execution_count": 36,
            "metadata": {},
            "outputs": [],
            "source": [
                "def extract_person_dict(lines):\n",
                "  person = {}\n",
                "  section=\"other\"\n",
                "  for i, line in enumerate(lines):\n",
                "      if \"###\" in line:\n",
                "          section = line.replace(\"- ### \",\"\")\n",
                "          if section == \"Vida\" or section == \"Documentos\":\n",
                "            person[section] = []\n",
                "          else:\n",
                "            person[section] = {}\n",
                "          pass\n",
                "      elif section == \"Vida\":\n",
                "        person[section].append(clean(line).replace(\"- \", \"\"))\n",
                "      elif section == \"Documentos\":\n",
                "        person[section].append(line)\n",
                "      elif \":\" in line:\n",
                "        vals = line.split(\":\")\n",
                "        # print(len(vals))\n",
                "        if (\"Morte\" == vals[0] and (clean(vals[1]) == 'DATA, LOCAL')) or (\"Sepultamento\" == vals[0] and (clean(vals[1]) == 'Cemitério de')):\n",
                "          person[section][vals[0]] = ''\n",
                "        elif \"Filhos\" in vals[0]:\n",
                "          filhos = []\n",
                "          for filho in lines[i+1:]:\n",
                "            if filho[0]==\"-\":\n",
                "              filhos.append(filho.replace(\"- \", \"\"))\n",
                "            else:\n",
                "              break\n",
                "          person[section][\"Filhos\"] = filhos\n",
                "        else:\n",
                "          person[section][vals[0]] = clean(\":\".join(vals[1:]))\n",
                "\n",
                "  person = clean_dict(person)\n",
                "  # display(person)\n",
                "  return person"
            ]
        },
        {
            "cell_type": "code",
            "execution_count": 37,
            "metadata": {},
            "outputs": [],
            "source": [
                "from datetime import date\n",
                "def create_header(name, dates):\n",
                "  timest = dates[0] if len(dates)>0 else \"????\"\n",
                "  timeend = dates[1] if len(dates)>1 else \"????\"\n",
                "  today = date.today().strftime(\"%d/%m/%Y\")\n",
                "  s = f\"---\\ntitle: \\'{name} ({timest}-{timeend})\\'\\ndata: {today}\\nnome: {name}\\nlayout: pessoa\\n---\\n\\n\"\n",
                "  return s\n",
                "\n",
                "def get_personal_data(personal_data):\n",
                "  lines = []\n",
                "  for k, v in personal_data.items():\n",
                "    if k ==\"Pais\":\n",
                "      text = v.split(\" e \")\n",
                "      line = f'**{k}:** [{text[0]}](){{:class=\"underconstruction\"}} e [{text[1]}](){{:class=\"underconstruction\"}}<br/>'\n",
                "      lines.append(line)\n",
                "    elif k ==\"Casamento\":\n",
                "      text = v.split(\",\")\n",
                "      line = f'**{k}:** [{text[0]}](){{:class=\"underconstruction\"}}, {\",\".join(text[1:])}<br/>'\n",
                "      lines.append(line)\n",
                "    elif k ==\"Filhos\":\n",
                "      line = f\"**{k}:**<br/>\"\n",
                "      lines.append(line)\n",
                "      # print(v)\n",
                "      for i, filho in enumerate(v):\n",
                "        line = f'&nbsp;&nbsp;&nbsp;&nbsp;&nbsp;&nbsp;{i+1}. [{filho}](){{:class=\"underconstruction\"}}<br/>'\n",
                "        lines.append(line)\n",
                "    else:\n",
                "      line = f\"**{k}:** {v}<br/>\"\n",
                "      lines.append(line)\n",
                "  return \"\\n\".join(lines)\n",
                "\n",
                "def get_life(vida):\n",
                "  nl = '\\n' \n",
                "  paragraphs = \"\\n\\n\".join(vida)\n",
                "  text = f\"{nl}{nl}## Vida:{nl}{nl}{paragraphs}{nl}\"\n",
                "  return text\n",
                "\n",
                "def get_refs(refs):\n",
                "  print(refs)\n",
                "  nl = '\\n' \n",
                "  paragraphs = \"\\n\\n\".join(refs)\n",
                "\n",
                "  text = f\"{nl}{nl}## Referências:{nl}{nl}{paragraphs}{nl}\"\n",
                "  return text"
            ]
        },
        {
            "cell_type": "code",
            "execution_count": 38,
            "metadata": {},
            "outputs": [
                {
                    "data": {
                        "text/plain": [
                            "['Christiano Frederico Scherer (1868-1945).md']"
                        ]
                    },
                    "execution_count": 38,
                    "metadata": {},
                    "output_type": "execute_result"
                }
            ],
            "source": [
                "from os import listdir\n",
                "from os.path import isfile, join\n",
                "onlyfiles = [f for f in listdir(\"convert_files\") if (isfile(join(\"convert_files\", f)) and f !='.DS_Store')]\n",
                "onlyfiles"
            ]
        },
        {
            "cell_type": "code",
            "execution_count": 39,
            "metadata": {},
            "outputs": [],
            "source": [
                "def get_time_name(filename):\n",
                "  filename = filename.replace(\".md\", '')\n",
                "  times = re.findall(r'\\d+', filename)\n",
                "  name = \" \".join(re.sub(r'\\([^)]*\\)', '', filename).split())\n",
                "  return times, name\n"
            ]
        },
        {
            "cell_type": "code",
            "execution_count": 40,
            "metadata": {},
            "outputs": [],
            "source": [
                "def file_name_set(name, time):\n",
                "  name_aux = \"\".join(name.split())\n",
                "  date_aux = time[0] if len(time)>0 else \"\"\n",
                "  return f\"{name_aux}{date_aux}.md\"\n",
                "\n",
                "def save_file(name, time, person):\n",
                "  f = open(f\"converted/{file_name_set(name, time)}\", \"w\")\n",
                "  f.write(create_header(name, time))\n",
                "  f.write(get_personal_data(person[\"Dados Pessoais\"]))\n",
                "  f.write(get_life(person[\"Vida\"]))\n",
                "  f.write(get_refs(person[\"Documentos\"]))\n",
                "  f.close()"
            ]
        },
        {
            "cell_type": "code",
            "execution_count": 41,
            "metadata": {},
            "outputs": [
                {
                    "name": "stdout",
                    "output_type": "stream",
                    "text": [
                        "['Certidão de Nascimento: ', '[5] Registro de Batismo:  Batismos 1865-1885 (49)', '- https://drive.google.com/file/d/1BPonIaAnEOaNHa4OduUpdrHPXJ9slrmd/view?usp=sharing', '[3] Certidão de Casamento: https://www.familysearch.org/ark:/61903/3:1:3QS7-89L5-3B1S?i=1872&cat=58014 Christiano Frederico Scherer, Filo de Pedro Scherer e Elisabetha Schneider cc Carlotta Elisa Massmann Carlos Massmann e Elisa Laut', '[4] Certidão de Óbito:  https://www.familysearch.org/ark:/61903/3:1:3QS7-89GW-9W99?i=158&cat=58014', 'Outros:', '- [1] Certidão de óbito do pai Peter Scherer (1841-1917)', '- [2] Certidão de batismo da filha Malvina Scherer (1891-1962)', '- [6] Túmulo no Cemitério de Olarias -22 de abril de 1868 - 05 de fevereiro de 1945-https://drive.google.com/file/d/1UX1gwModVnmI8UZzjo8mvGrSbtddQU6Q/view?usp=sharing', 'Agradecimento:']\n"
                    ]
                }
            ],
            "source": [
                "for filename in onlyfiles:\n",
                "  times, name = get_time_name(filename)\n",
                "  lines = read_lines(filename)\n",
                "  person = extract_person_dict(lines)\n",
                "  save_file(name, times, person)\n"
            ]
        },
        {
            "cell_type": "code",
            "execution_count": 42,
            "metadata": {},
            "outputs": [],
            "source": [
                "# FOLHA = \"6\"\n",
                "# NUM = \"9\"\n",
                "# LINK = \"https://drive.google.com/file/d/11alIGA7qSWr9gIa5GBm4zfa3JhQ1NJi1/view?usp=sharing\"\n",
                "# DATA = \"11 janeiro 2025\"\n",
                "# print(F\"Registro de Casamento da Paróquia Evangélica de Conventos, Livro 1914-1935 Folha {FOLHA} Num. {NUM}. Acervo Pessoal. Disponível em: [{LINK}]({LINK}). Acesso em: {DATA}.\")"
            ]
        },
        {
            "cell_type": "code",
            "execution_count": 47,
            "metadata": {},
            "outputs": [
                {
                    "data": {
                        "text/plain": [
                            "'02 February/2025'"
                        ]
                    },
                    "execution_count": 47,
                    "metadata": {},
                    "output_type": "execute_result"
                }
            ],
            "source": [
                "date.today().strftime(\"%d %B/%Y\")"
            ]
        },
        {
            "cell_type": "code",
            "execution_count": 72,
            "metadata": {},
            "outputs": [
                {
                    "data": {
                        "text/plain": [
                            "'02 de fevereiro de 2025'"
                        ]
                    },
                    "execution_count": 72,
                    "metadata": {},
                    "output_type": "execute_result"
                }
            ],
            "source": [
                "# from babel.dates import dateformat\n",
                "from babel.dates import format_date, format_datetime, format_time\n",
                "\n",
                "format_date(date.today(), format=\"long\", locale=\"pt_BR\")\n",
                "format_date(date.today(), \"dd 'de' MMMM 'de' YYYY\", locale=\"pt_BR\")\n",
                "# \"EEE, MMM d, ''yy"
            ]
        },
        {
            "cell_type": "code",
            "execution_count": 73,
            "metadata": {},
            "outputs": [],
            "source": [
                "from datetime import date\n",
                "\n",
                "DATE = format_date(date.today(), \"dd 'de' MMMM 'de' YYYY\", locale=\"pt_BR\")\n",
                "\n",
                "def format_reg_civil_reference(doc_details):\n",
                "    matricula = f' Número de Matrícula: {doc_details[\"matricula\"]}.' if  doc_details[\"matricula\"] else ''\n",
                "    link = f' Disponível em: [{doc_details[\"link\"]}]({doc_details[\"link\"]}). Acesso em: {DATE}.' if  doc_details[\"link\"] else ' Entrar em contato.'\n",
                "    is_acervo = f' Acervo Pessoal.' if {doc_details[\"is_acervo\"]} else ''\n",
                "    return f'''[XX] Registro de {doc_details[\"type\"]}. Registro Civíl de Pessoas Naturais - {doc_details[\"place\"]}. Ano {doc_details[\"year\"]}. Livro {doc_details[\"book\"]}, Folha {doc_details[\"page\"]}, Num. {doc_details[\"number\"]}.{matricula}{is_acervo}{link}'''\n"
            ]
        },
        {
            "cell_type": "code",
            "execution_count": null,
            "metadata": {},
            "outputs": [],
            "source": []
        },
        {
            "cell_type": "code",
            "execution_count": 74,
            "metadata": {},
            "outputs": [
                {
                    "data": {
                        "text/plain": [
                            "'[XX] Registro de Casamento. Registro Civíl de Pessoas Naturais - Lajeado, Rio Grande do Sul, Brasil. Ano 2023. Livro B-21, Folha 150, Num. 2633. Acervo Pessoal. Disponível em: [https://drive.google.com/file/d/16-Zfv5ry6IV3AgX9WjZcoFfdtaNuLSwX/view?usp=sharing](https://drive.google.com/file/d/16-Zfv5ry6IV3AgX9WjZcoFfdtaNuLSwX/view?usp=sharing). Acesso em: 02 de fevereiro de 2025.'"
                        ]
                    },
                    "execution_count": 74,
                    "metadata": {},
                    "output_type": "execute_result"
                }
            ],
            "source": [
                "# doc_details = {\n",
                "#     \"type\": \"Nascimento\", # \"Óbito\" | Casamento\n",
                "#     \"place\": \"Lajeado, Rio Grande do Sul, Brasil\",\n",
                "#     \"year\": \"2023\",\n",
                "#     \"book\": \"A-27\",\n",
                "#     \"page\": \"33v\",\n",
                "#     \"number\": \"2341\",\n",
                "#     \"matricula\": None,\n",
                "#     \"link\": None,\n",
                "#     \"is_acervo\": True\n",
                "# }\n",
                "\n",
                "#  Livro B-21, Folha 150, Número 2633. Disponível em: https://drive.google.com/file/d/16-Zfv5ry6IV3AgX9WjZcoFfdtaNuLSwX/view?usp=sharing\n",
                "doc_details = {\n",
                "    \"type\": \"Casamento\", # Nascimento | \"Óbito\" | Casamento\n",
                "    \"place\": \"Lajeado, Rio Grande do Sul, Brasil\",\n",
                "    \"year\": \"2023\",\n",
                "    \"book\": \"B-21\",\n",
                "    \"page\": \"150\",\n",
                "    \"number\": \"2633\",\n",
                "    \"matricula\": None,\n",
                "    \"link\": \"https://drive.google.com/file/d/16-Zfv5ry6IV3AgX9WjZcoFfdtaNuLSwX/view?usp=sharing\",\n",
                "    \"is_acervo\": True\n",
                "}\n",
                "format_reg_civil_reference(doc_details)"
            ]
        },
        {
            "cell_type": "code",
            "execution_count": null,
            "metadata": {},
            "outputs": [],
            "source": []
        },
        {
            "cell_type": "code",
            "execution_count": null,
            "metadata": {},
            "outputs": [],
            "source": [
                "https://drive.google.com/file/d/10ujt7mkUy5VsMq8O-A4QlqSC7ftaK40K/view?usp=sharing"
            ]
        }
    ],
    "metadata": {
        "kernelspec": {
            "display_name": "base",
            "language": "python",
            "name": "python3"
        },
        "language_info": {
            "codemirror_mode": {
                "name": "ipython",
                "version": 3
            },
            "file_extension": ".py",
            "mimetype": "text/x-python",
            "name": "python",
            "nbconvert_exporter": "python",
            "pygments_lexer": "ipython3",
            "version": "3.10.10"
        },
        "orig_nbformat": 4
    },
    "nbformat": 4,
    "nbformat_minor": 2
}
