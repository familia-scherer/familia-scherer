{
    "cells": [
        {
            "attachments": {},
            "cell_type": "markdown",
            "metadata": {},
            "source": [
                "# how to generate files"
            ]
        },
        {
            "attachments": {},
            "cell_type": "markdown",
            "metadata": {},
            "source": [
                "### - Download markdown of the person you want to add from Roam and add it to covert_files folder\n",
                "\n",
                "### - run this and fix file if needed"
            ]
        },
        {
            "cell_type": "code",
            "execution_count": 1,
            "metadata": {},
            "outputs": [],
            "source": [
                "import re\n",
                "def clean(text):\n",
                "  text = \" \".join(text.split())\n",
                "  text = text.replace(\"[[\", \"\")\n",
                "  text = text.replace(\"]]\", \"\")\n",
                "  text = text.replace(\"\\n\", \"\")\n",
                "  text = text.replace(\"*\", \"\")\n",
                "  return text\n",
                "\n",
                "def clean_dict(dictionary):\n",
                "  d = {}\n",
                "  for k, v in dictionary.items():\n",
                "    if v != {}:\n",
                "      d[k] = {}\n",
                "    if  isinstance(v, list):\n",
                "        d[k] = v\n",
                "    else:\n",
                "      for k2, v2 in v.items():\n",
                "        if v2:\n",
                "            d[k][k2] = v2\n",
                "  return d"
            ]
        },
        {
            "cell_type": "code",
            "execution_count": 2,
            "metadata": {},
            "outputs": [],
            "source": [
                "def read_lines(filename):\n",
                "    with open(f\"convert_files/{filename}\", 'r') as f:\n",
                "        lines = f.readlines()\n",
                "    lines = [clean(line) for line in lines if clean(line)!='']\n",
                "    return lines"
            ]
        },
        {
            "cell_type": "code",
            "execution_count": 3,
            "metadata": {},
            "outputs": [],
            "source": [
                "def extract_person_dict(lines):\n",
                "  person = {}\n",
                "  section=\"other\"\n",
                "  for i, line in enumerate(lines):\n",
                "      if \"###\" in line:\n",
                "          section = line.replace(\"- ### \",\"\")\n",
                "          if section == \"Vida\" or section == \"Documentos\":\n",
                "            person[section] = []\n",
                "          else:\n",
                "            person[section] = {}\n",
                "          pass\n",
                "      elif section == \"Vida\":\n",
                "        person[section].append(clean(line).replace(\"- \", \"\"))\n",
                "      elif section == \"Documentos\":\n",
                "        person[section].append(line)\n",
                "      elif \":\" in line:\n",
                "        vals = line.split(\":\")\n",
                "        # print(len(vals))\n",
                "        if (\"Morte\" == vals[0] and (clean(vals[1]) == 'DATA, LOCAL')) or (\"Sepultamento\" == vals[0] and (clean(vals[1]) == 'Cemitério de')):\n",
                "          person[section][vals[0]] = ''\n",
                "        elif \"Filhos\" in vals[0]:\n",
                "          filhos = []\n",
                "          for filho in lines[i+1:]:\n",
                "            if filho[0]==\"-\":\n",
                "              filhos.append(filho.replace(\"- \", \"\"))\n",
                "            else:\n",
                "              break\n",
                "          person[section][\"Filhos\"] = filhos\n",
                "        else:\n",
                "          person[section][vals[0]] = clean(\":\".join(vals[1:]))\n",
                "\n",
                "  person = clean_dict(person)\n",
                "  # display(person)\n",
                "  return person"
            ]
        },
        {
            "cell_type": "code",
            "execution_count": 4,
            "metadata": {},
            "outputs": [],
            "source": [
                "from datetime import date\n",
                "def create_header(name, dates):\n",
                "  timest = dates[0] if len(dates)>0 else \"????\"\n",
                "  timeend = dates[1] if len(dates)>1 else \"????\"\n",
                "  today = date.today().strftime(\"%d/%m/%Y\")\n",
                "  s = f\"---\\ntitle: \\'{name} ({timest}-{timeend})\\'\\ndata: {today}\\nnome: {name}\\nlayout: pessoa\\n---\\n\\n\"\n",
                "  return s\n",
                "\n",
                "def get_personal_data(personal_data):\n",
                "  lines = []\n",
                "  for k, v in personal_data.items():\n",
                "    if k ==\"Pais\":\n",
                "      text = v.split(\" e \")\n",
                "      line = f'**{k}:** [{text[0]}](){{:class=\"underconstruction\"}} e [{text[1]}](){{:class=\"underconstruction\"}}<br/>'\n",
                "      lines.append(line)\n",
                "    elif k ==\"Casamento\":\n",
                "      text = v.split(\",\")\n",
                "      line = f'**{k}:** [{text[0]}](){{:class=\"underconstruction\"}}, {\",\".join(text[1:])}<br/>'\n",
                "      lines.append(line)\n",
                "    elif k ==\"Filhos\":\n",
                "      line = f\"**{k}:**<br/>\"\n",
                "      lines.append(line)\n",
                "      # print(v)\n",
                "      for i, filho in enumerate(v):\n",
                "        line = f'&nbsp;&nbsp;&nbsp;&nbsp;&nbsp;&nbsp;{i+1}. [{filho}](){{:class=\"underconstruction\"}}<br/>'\n",
                "        lines.append(line)\n",
                "    else:\n",
                "      line = f\"**{k}:** {v}<br/>\"\n",
                "      lines.append(line)\n",
                "  return \"\\n\".join(lines)\n",
                "\n",
                "def get_life(vida):\n",
                "  nl = '\\n' \n",
                "  paragraphs = \"\\n\\n\".join(vida)\n",
                "  text = f\"{nl}{nl}## Vida:{nl}{nl}{paragraphs}{nl}\"\n",
                "  return text\n",
                "\n",
                "def get_refs(refs):\n",
                "  print(refs)\n",
                "  nl = '\\n' \n",
                "  paragraphs = \"\\n\\n\".join(refs)\n",
                "\n",
                "  text = f\"{nl}{nl}## Referências:{nl}{nl}{paragraphs}{nl}\"\n",
                "  return text"
            ]
        },
        {
            "cell_type": "code",
            "execution_count": 5,
            "metadata": {},
            "outputs": [
                {
                    "data": {
                        "text/plain": [
                            "['Raymundo Benno Scherer (1913-1979).md']"
                        ]
                    },
                    "execution_count": 5,
                    "metadata": {},
                    "output_type": "execute_result"
                }
            ],
            "source": [
                "from os import listdir\n",
                "from os.path import isfile, join\n",
                "onlyfiles = [f for f in listdir(\"convert_files\") if (isfile(join(\"convert_files\", f)) and f !='.DS_Store')]\n",
                "onlyfiles"
            ]
        },
        {
            "cell_type": "code",
            "execution_count": 6,
            "metadata": {},
            "outputs": [],
            "source": [
                "def get_time_name(filename):\n",
                "  filename = filename.replace(\".md\", '')\n",
                "  times = re.findall(r'\\d+', filename)\n",
                "  name = \" \".join(re.sub(r'\\([^)]*\\)', '', filename).split())\n",
                "  return times, name\n"
            ]
        },
        {
            "cell_type": "code",
            "execution_count": 7,
            "metadata": {},
            "outputs": [],
            "source": [
                "def file_name_set(name, time):\n",
                "  name_aux = \"\".join(name.split())\n",
                "  date_aux = time[0] if len(time)>0 else \"\"\n",
                "  return f\"{name_aux}{date_aux}.md\"\n",
                "\n",
                "def save_file(name, time, person):\n",
                "  f = open(f\"converted/{file_name_set(name, time)}\", \"w\")\n",
                "  f.write(create_header(name, time))\n",
                "  f.write(get_personal_data(person[\"Dados Pessoais\"]))\n",
                "  f.write(get_life(person[\"Vida\"]))\n",
                "  f.write(get_refs(person[\"Documentos\"]))\n",
                "  f.close()"
            ]
        },
        {
            "cell_type": "code",
            "execution_count": 8,
            "metadata": {},
            "outputs": [
                {
                    "name": "stdout",
                    "output_type": "stream",
                    "text": [
                        "['[1] Certidão de Nascimento:  https://www.familysearch.org/ark:/61903/3:1:3QS7-89L5-39MX-T?cat=58014 Lajeado Livro A-28, Folha 43, Num. 224', 'Registro de Batismo: ', '[2] Certidão de Casamento: https://www.familysearch.org/ark:/61903/3:1:3QS7-L9GW-S6XW?lang=pt&i=2835 B-5 flh 74, num 2 - Marques de Souza', '[3] Certidão de Óbito:  https://www.familysearch.org/ark:/61903/3:1:3QS7-89GW-3QL6?lang=pt&i=1758 C-1 flh 147, num 191 - Marques de Souza', 'Outros:', '- [4] registro de obito do pai Frederico Jacob Theobaldo Scherer (1885-1948)', '- [5] registro de obito da mae Idalina Renaldina Scherer (1890-1973)', '- [6] obito do filho Létio Eleceu Scherer (1952-1977)', 'Agradecimento:']\n"
                    ]
                }
            ],
            "source": [
                "for filename in onlyfiles:\n",
                "  times, name = get_time_name(filename)\n",
                "  lines = read_lines(filename)\n",
                "  person = extract_person_dict(lines)\n",
                "  save_file(name, times, person)\n"
            ]
        },
        {
            "cell_type": "code",
            "execution_count": 9,
            "metadata": {},
            "outputs": [
                {
                    "name": "stdout",
                    "output_type": "stream",
                    "text": [
                        "Registro de Casamento da Paróquia Evangélica de Conventos, Livro 1914-1935 Folha 6 Num. 9. Acervo Pessoal. Disponível em: [https://drive.google.com/file/d/11alIGA7qSWr9gIa5GBm4zfa3JhQ1NJi1/view?usp=sharing](https://drive.google.com/file/d/11alIGA7qSWr9gIa5GBm4zfa3JhQ1NJi1/view?usp=sharing). Acesso em: 11 janeiro 2025.\n"
                    ]
                }
            ],
            "source": [
                "# FOLHA = \"6\"\n",
                "# NUM = \"9\"\n",
                "# LINK = \"https://drive.google.com/file/d/11alIGA7qSWr9gIa5GBm4zfa3JhQ1NJi1/view?usp=sharing\"\n",
                "# DATA = \"11 janeiro 2025\"\n",
                "# print(F\"Registro de Casamento da Paróquia Evangélica de Conventos, Livro 1914-1935 Folha {FOLHA} Num. {NUM}. Acervo Pessoal. Disponível em: [{LINK}]({LINK}). Acesso em: {DATA}.\")"
            ]
        },
        {
            "cell_type": "code",
            "execution_count": null,
            "metadata": {},
            "outputs": [],
            "source": []
        }
    ],
    "metadata": {
        "kernelspec": {
            "display_name": "base",
            "language": "python",
            "name": "python3"
        },
        "language_info": {
            "codemirror_mode": {
                "name": "ipython",
                "version": 3
            },
            "file_extension": ".py",
            "mimetype": "text/x-python",
            "name": "python",
            "nbconvert_exporter": "python",
            "pygments_lexer": "ipython3",
            "version": "3.10.10"
        },
        "orig_nbformat": 4
    },
    "nbformat": 4,
    "nbformat_minor": 2
}
