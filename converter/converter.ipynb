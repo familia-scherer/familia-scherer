{
    "cells": [
        {
            "cell_type": "code",
            "execution_count": 111,
            "source": [
                "import re\n",
                "def clean(text):\n",
                "  text = \" \".join(text.split())\n",
                "  text = text.replace(\"[[\", \"\")\n",
                "  text = text.replace(\"]]\", \"\")\n",
                "  text = text.replace(\"\\n\", \"\")\n",
                "  text = text.replace(\"*\", \"\")\n",
                "  return text\n",
                "\n",
                "def clean_dict(dictionary):\n",
                "  d = {}\n",
                "  for k, v in dictionary.items():\n",
                "    if v != {}:\n",
                "      d[k] = {}\n",
                "    if  isinstance(v, list):\n",
                "        d[k] = v\n",
                "    else:\n",
                "      for k2, v2 in v.items():\n",
                "        if v2:\n",
                "            d[k][k2] = v2\n",
                "  return d"
            ],
            "outputs": [],
            "metadata": {}
        },
        {
            "cell_type": "code",
            "execution_count": 112,
            "source": [
                "def read_lines(filename):\n",
                "    with open(f\"convert_files/{filename}\", 'r') as f:\n",
                "        lines = f.readlines()\n",
                "    lines = [clean(line) for line in lines if clean(line)!='']\n",
                "    return lines"
            ],
            "outputs": [],
            "metadata": {}
        },
        {
            "cell_type": "code",
            "execution_count": 113,
            "source": [
                "def extract_person_dict(lines):\n",
                "  person = {}\n",
                "  section=\"other\"\n",
                "  for i, line in enumerate(lines):\n",
                "      if \"###\" in line:\n",
                "          section = line.replace(\"- ### \",\"\")\n",
                "          if section == \"Vida\" or section == \"Documentos\":\n",
                "            person[section] = []\n",
                "          else:\n",
                "            person[section] = {}\n",
                "          pass\n",
                "      elif section == \"Vida\":\n",
                "        person[section].append(clean(line).replace(\"- \", \"\"))\n",
                "      elif section == \"Documentos\":\n",
                "        person[section].append(line)\n",
                "      elif \":\" in line:\n",
                "        vals = line.split(\":\")\n",
                "        # print(len(vals))\n",
                "        if (\"Morte\" == vals[0] and (clean(vals[1]) == 'DATA, LOCAL')) or (\"Sepultamento\" == vals[0] and (clean(vals[1]) == 'Cemitério de')):\n",
                "          person[section][vals[0]] = ''\n",
                "        elif \"Filhos\" in vals[0]:\n",
                "          filhos = []\n",
                "          for filho in lines[i+1:]:\n",
                "            if filho[0]==\"-\":\n",
                "              filhos.append(filho.replace(\"- \", \"\"))\n",
                "            else:\n",
                "              break\n",
                "          person[section][\"Filhos\"] = filhos\n",
                "        else:\n",
                "          person[section][vals[0]] = clean(\":\".join(vals[1:]))\n",
                "\n",
                "  person = clean_dict(person)\n",
                "  # display(person)\n",
                "  return person"
            ],
            "outputs": [],
            "metadata": {}
        },
        {
            "cell_type": "code",
            "execution_count": 114,
            "source": [
                "from datetime import date\n",
                "def create_header(name, dates):\n",
                "  timest = dates[0] if len(dates)>0 else \"????\"\n",
                "  timeend = dates[1] if len(dates)>1 else \"????\"\n",
                "  today = date.today().strftime(\"%d/%m/%Y\")\n",
                "  s = f\"---\\ntitle: \\'{name} ({timest}-{timeend})\\'\\ndata: {today}\\nnome: {name}\\nlayout: pessoa\\n---\\n\\n\"\n",
                "  return s\n",
                "\n",
                "def get_personal_data(personal_data):\n",
                "  lines = []\n",
                "  for k, v in personal_data.items():\n",
                "    if k ==\"Pais\":\n",
                "      text = v.split(\" e \")\n",
                "      line = f'**{k}:** [{text[0]}](){{:class=\"underconstruction\"}} e [{text[1]}](){{:class=\"underconstruction\"}}<br/>'\n",
                "      lines.append(line)\n",
                "    elif k ==\"Casamento\":\n",
                "      text = v.split(\",\")\n",
                "      line = f'**{k}:** [{text[0]}](){{:class=\"underconstruction\"}}, {\",\".join(text[1:])}<br/>'\n",
                "      lines.append(line)\n",
                "    elif k ==\"Filhos\":\n",
                "      line = f\"**{k}:**<br/>\"\n",
                "      lines.append(line)\n",
                "      # print(v)\n",
                "      for i, filho in enumerate(v):\n",
                "        line = f'&nbsp;&nbsp;&nbsp;&nbsp;&nbsp;&nbsp;{i+1}. [{filho}](){{:class=\"underconstruction\"}}<br/>'\n",
                "        lines.append(line)\n",
                "    else:\n",
                "      line = f\"**{k}:** {v}<br/>\"\n",
                "      lines.append(line)\n",
                "  return \"\\n\".join(lines)\n",
                "\n",
                "def get_life(vida):\n",
                "  nl = '\\n' \n",
                "  paragraphs = \"\\n\\n\".join(vida)\n",
                "  text = f\"{nl}{nl}## Vida:{nl}{nl}{paragraphs}{nl}\"\n",
                "  return text\n",
                "\n",
                "def get_refs(refs):\n",
                "  print(refs)\n",
                "  nl = '\\n' \n",
                "  paragraphs = \"\\n\\n\".join(refs)\n",
                "\n",
                "  text = f\"{nl}{nl}## Referências:{nl}{nl}{paragraphs}{nl}\"\n",
                "  return text"
            ],
            "outputs": [],
            "metadata": {}
        },
        {
            "cell_type": "code",
            "execution_count": 115,
            "source": [
                "from os import listdir\n",
                "from os.path import isfile, join\n",
                "onlyfiles = [f for f in listdir(\"convert_files\") if (isfile(join(\"convert_files\", f)) and f !='.DS_Store')]\n",
                "onlyfiles"
            ],
            "outputs": [
                {
                    "output_type": "execute_result",
                    "data": {
                        "text/plain": [
                            "['João Reynaldo Scherer (1876-1946).md',\n",
                            " 'Henrique Scherer Sobrinho (1848-----).md',\n",
                            " 'Waldemar Ziegler Scherer (1914-1989).md',\n",
                            " 'Maria Catharina Scherer (1826-----).md']"
                        ]
                    },
                    "metadata": {},
                    "execution_count": 115
                }
            ],
            "metadata": {}
        },
        {
            "cell_type": "code",
            "execution_count": 116,
            "source": [
                "def get_time_name(filename):\n",
                "  filename = filename.replace(\".md\", '')\n",
                "  times = re.findall(r'\\d+', filename)\n",
                "  name = \" \".join(re.sub(r'\\([^)]*\\)', '', filename).split())\n",
                "  return times, name\n"
            ],
            "outputs": [],
            "metadata": {}
        },
        {
            "cell_type": "code",
            "execution_count": 117,
            "source": [
                "def file_name_set(name, time):\n",
                "  name_aux = \"\".join(name.split())\n",
                "  date_aux = time[0] if len(time)>0 else \"\"\n",
                "  return f\"{name_aux}{date_aux}.md\"\n",
                "\n",
                "def save_file(name, time, person):\n",
                "  f = open(f\"converted/{file_name_set(name, time)}\", \"w\")\n",
                "  f.write(create_header(name, times))\n",
                "  f.write(get_personal_data(person[\"Dados Pessoais\"]))\n",
                "  f.write(get_life(person[\"Vida\"]))\n",
                "  f.write(get_refs(person[\"Documentos\"]))\n",
                "  f.close()"
            ],
            "outputs": [],
            "metadata": {}
        },
        {
            "cell_type": "code",
            "execution_count": 118,
            "source": [
                "for filename in onlyfiles:\n",
                "  times, name = get_time_name(filename)\n",
                "  lines = read_lines(filename)\n",
                "  person = extract_person_dict(lines)\n",
                "  save_file(name, times, person)\n"
            ],
            "outputs": [
                {
                    "output_type": "stream",
                    "name": "stdout",
                    "text": [
                        "['Certidão de Nascimento: ', 'Registro de Batismo: ', 'Certidão de Casamento:', 'Certidão de Óbito: ', '[1] Tumulo', 'Outros:', '- [2] Aparece como marido de Adelaide na Certidão de Óbito de Adelaide Ziegler Scherer (1890-1929) - https://drive.google.com/file/d/1QpM7f7GsNPCXR-5OuPlmgFD33ftCBwlw/view?usp=sharing', '- https://drive.google.com/file/d/1QpM7f7GsNPCXR-5OuPlmgFD33ftCBwlw/view?usp=sharing', '- [3] Aparece como pai de Docelina na Certidão de Nascimento de Docelina Scherer (1908 - ????) - https://www.familysearch.org/ark:/61903/3:1:3QS7-L9L8-6HYQ?cc=3741255&personaUrl=%2Fark%3A%2F61903%2F1%3A1%3ADHS5-HGN2', '- [4] Aparece como pai de Fernando na Certidão de Nascimento de Fernando Scherer (1907-????) -https://www.familysearch.org/ark:/61903/3:1:3QS7-L9L8-6HGF?cc=3741255&personaUrl=%2Fark%3A%2F61903%2F1%3A1%3ADSTY-V9ZM', '- [5] Family Search - Person - No oficial source', '- https://www.familysearch.org/tree/person/details/LB6R-FR6', 'Agradecimento: João Miguel Scherer (JM)']\n",
                        "['Certidão de Nascimento: ', 'Registro de Batismo: ', '[1] Certidão de Casamento: https://www.familysearch.org/ark:/61903/3:1:3QS7-89L8-X2PY', 'Certidão de Óbito: ', 'Outros:', '- [2] Aparece como avô de Docelina na Certidão de Nascimento de Docelina Scherer (1908 - ????) - https://www.familysearch.org/ark:/61903/3:1:3QS7-L9L8-6HYQ?cc=3741255&personaUrl=%2Fark%3A%2F61903%2F1%3A1%3ADHS5-HGN2', '- [3] Aparece como pai de Maria Renaldina e Octacilia na Certidão de Casamento de Octacilia Scherer - https://www.familysearch.org/ark:/61903/3:1:3QS7-89L8-N9ZV-F?i=1613', '- Family Search - Person - No oficial source - https://www.familysearch.org/tree/person/details/KDMT-X1B', 'Agradecimento:']\n",
                        "['Certidão de Nascimento: ', 'Registro de Batismo: ', 'Certidão de Casamento:', 'Certidão de Óbito: ', 'Outros:', '- [1] Lapide', '- [2] Family Search - Preson - No oficial source - https://www.familysearch.org/tree/person/details/LBN3-FSD', 'Agradecimento: João Miguel Scherer (JM)']\n"
                    ]
                },
                {
                    "output_type": "error",
                    "ename": "IndexError",
                    "evalue": "list index out of range",
                    "traceback": [
                        "\u001b[0;31m---------------------------------------------------------------------------\u001b[0m",
                        "\u001b[0;31mIndexError\u001b[0m                                Traceback (most recent call last)",
                        "\u001b[0;32m<ipython-input-118-eda2d0bb4f43>\u001b[0m in \u001b[0;36m<module>\u001b[0;34m\u001b[0m\n\u001b[1;32m      3\u001b[0m   \u001b[0mlines\u001b[0m \u001b[0;34m=\u001b[0m \u001b[0mread_lines\u001b[0m\u001b[0;34m(\u001b[0m\u001b[0mfilename\u001b[0m\u001b[0;34m)\u001b[0m\u001b[0;34m\u001b[0m\u001b[0;34m\u001b[0m\u001b[0m\n\u001b[1;32m      4\u001b[0m   \u001b[0mperson\u001b[0m \u001b[0;34m=\u001b[0m \u001b[0mextract_person_dict\u001b[0m\u001b[0;34m(\u001b[0m\u001b[0mlines\u001b[0m\u001b[0;34m)\u001b[0m\u001b[0;34m\u001b[0m\u001b[0;34m\u001b[0m\u001b[0m\n\u001b[0;32m----> 5\u001b[0;31m   \u001b[0msave_file\u001b[0m\u001b[0;34m(\u001b[0m\u001b[0mname\u001b[0m\u001b[0;34m,\u001b[0m \u001b[0mtimes\u001b[0m\u001b[0;34m,\u001b[0m \u001b[0mperson\u001b[0m\u001b[0;34m)\u001b[0m\u001b[0;34m\u001b[0m\u001b[0;34m\u001b[0m\u001b[0m\n\u001b[0m",
                        "\u001b[0;32m<ipython-input-117-a29118c4a39b>\u001b[0m in \u001b[0;36msave_file\u001b[0;34m(name, time, person)\u001b[0m\n\u001b[1;32m      7\u001b[0m   \u001b[0mf\u001b[0m \u001b[0;34m=\u001b[0m \u001b[0mopen\u001b[0m\u001b[0;34m(\u001b[0m\u001b[0;34mf\"converted/{file_name_set(name, time)}\"\u001b[0m\u001b[0;34m,\u001b[0m \u001b[0;34m\"w\"\u001b[0m\u001b[0;34m)\u001b[0m\u001b[0;34m\u001b[0m\u001b[0;34m\u001b[0m\u001b[0m\n\u001b[1;32m      8\u001b[0m   \u001b[0mf\u001b[0m\u001b[0;34m.\u001b[0m\u001b[0mwrite\u001b[0m\u001b[0;34m(\u001b[0m\u001b[0mcreate_header\u001b[0m\u001b[0;34m(\u001b[0m\u001b[0mname\u001b[0m\u001b[0;34m,\u001b[0m \u001b[0mtimes\u001b[0m\u001b[0;34m)\u001b[0m\u001b[0;34m)\u001b[0m\u001b[0;34m\u001b[0m\u001b[0;34m\u001b[0m\u001b[0m\n\u001b[0;32m----> 9\u001b[0;31m   \u001b[0mf\u001b[0m\u001b[0;34m.\u001b[0m\u001b[0mwrite\u001b[0m\u001b[0;34m(\u001b[0m\u001b[0mget_personal_data\u001b[0m\u001b[0;34m(\u001b[0m\u001b[0mperson\u001b[0m\u001b[0;34m[\u001b[0m\u001b[0;34m\"Dados Pessoais\"\u001b[0m\u001b[0;34m]\u001b[0m\u001b[0;34m)\u001b[0m\u001b[0;34m)\u001b[0m\u001b[0;34m\u001b[0m\u001b[0;34m\u001b[0m\u001b[0m\n\u001b[0m\u001b[1;32m     10\u001b[0m   \u001b[0mf\u001b[0m\u001b[0;34m.\u001b[0m\u001b[0mwrite\u001b[0m\u001b[0;34m(\u001b[0m\u001b[0mget_life\u001b[0m\u001b[0;34m(\u001b[0m\u001b[0mperson\u001b[0m\u001b[0;34m[\u001b[0m\u001b[0;34m\"Vida\"\u001b[0m\u001b[0;34m]\u001b[0m\u001b[0;34m)\u001b[0m\u001b[0;34m)\u001b[0m\u001b[0;34m\u001b[0m\u001b[0;34m\u001b[0m\u001b[0m\n\u001b[1;32m     11\u001b[0m   \u001b[0mf\u001b[0m\u001b[0;34m.\u001b[0m\u001b[0mwrite\u001b[0m\u001b[0;34m(\u001b[0m\u001b[0mget_refs\u001b[0m\u001b[0;34m(\u001b[0m\u001b[0mperson\u001b[0m\u001b[0;34m[\u001b[0m\u001b[0;34m\"Documentos\"\u001b[0m\u001b[0;34m]\u001b[0m\u001b[0;34m)\u001b[0m\u001b[0;34m)\u001b[0m\u001b[0;34m\u001b[0m\u001b[0;34m\u001b[0m\u001b[0m\n",
                        "\u001b[0;32m<ipython-input-114-87db0cbd47fd>\u001b[0m in \u001b[0;36mget_personal_data\u001b[0;34m(personal_data)\u001b[0m\n\u001b[1;32m     12\u001b[0m     \u001b[0;32mif\u001b[0m \u001b[0mk\u001b[0m \u001b[0;34m==\u001b[0m\u001b[0;34m\"Pais\"\u001b[0m\u001b[0;34m:\u001b[0m\u001b[0;34m\u001b[0m\u001b[0;34m\u001b[0m\u001b[0m\n\u001b[1;32m     13\u001b[0m       \u001b[0mtext\u001b[0m \u001b[0;34m=\u001b[0m \u001b[0mv\u001b[0m\u001b[0;34m.\u001b[0m\u001b[0msplit\u001b[0m\u001b[0;34m(\u001b[0m\u001b[0;34m\" e \"\u001b[0m\u001b[0;34m)\u001b[0m\u001b[0;34m\u001b[0m\u001b[0;34m\u001b[0m\u001b[0m\n\u001b[0;32m---> 14\u001b[0;31m       \u001b[0mline\u001b[0m \u001b[0;34m=\u001b[0m \u001b[0;34mf'**{k}:** [{text[0]}](){{:class=\"underconstruction\"}} e [{text[1]}](){{:class=\"underconstruction\"}}<br/>'\u001b[0m\u001b[0;34m\u001b[0m\u001b[0;34m\u001b[0m\u001b[0m\n\u001b[0m\u001b[1;32m     15\u001b[0m       \u001b[0mlines\u001b[0m\u001b[0;34m.\u001b[0m\u001b[0mappend\u001b[0m\u001b[0;34m(\u001b[0m\u001b[0mline\u001b[0m\u001b[0;34m)\u001b[0m\u001b[0;34m\u001b[0m\u001b[0;34m\u001b[0m\u001b[0m\n\u001b[1;32m     16\u001b[0m     \u001b[0;32melif\u001b[0m \u001b[0mk\u001b[0m \u001b[0;34m==\u001b[0m\u001b[0;34m\"Casamento\"\u001b[0m\u001b[0;34m:\u001b[0m\u001b[0;34m\u001b[0m\u001b[0;34m\u001b[0m\u001b[0m\n",
                        "\u001b[0;31mIndexError\u001b[0m: list index out of range"
                    ]
                }
            ],
            "metadata": {}
        },
        {
            "cell_type": "code",
            "execution_count": null,
            "source": [],
            "outputs": [],
            "metadata": {}
        },
        {
            "cell_type": "code",
            "execution_count": null,
            "source": [],
            "outputs": [],
            "metadata": {}
        }
    ],
    "metadata": {
        "orig_nbformat": 4,
        "language_info": {
            "name": "python",
            "version": "3.7.4",
            "mimetype": "text/x-python",
            "codemirror_mode": {
                "name": "ipython",
                "version": 3
            },
            "pygments_lexer": "ipython3",
            "nbconvert_exporter": "python",
            "file_extension": ".py"
        },
        "kernelspec": {
            "name": "python3",
            "display_name": "Python 3.7.4 64-bit ('base': conda)"
        },
        "interpreter": {
            "hash": "02c85d9988bb666b370f3436df37cf204d2515b4f3fa3dcc4209f9e2bd3d16ba"
        }
    },
    "nbformat": 4,
    "nbformat_minor": 2
}